{
  "cells": [
    {
      "cell_type": "raw",
      "metadata": {},
      "source": [
        "---\n",
        "title: Chapter 1\n",
        "number-sections: true\n",
        "format:\n",
        "  html:\n",
        "    code-fold: true\n",
        "  pdf:\n",
        "    document-class: book\n",
        "    echo: false\n",
        "    keep-tex: true\n",
        "    keep-ipynb: true\n",
        "---"
      ],
      "id": "bbe34533"
    },
    {
      "cell_type": "markdown",
      "metadata": {},
      "source": [
        "Intro to chapter.\n",
        "\n",
        "\\section{A Section Title}\n",
        "\n",
        "\n",
        "Some text here.  Then a matplotlib plot.\n"
      ],
      "id": "10188f2f"
    },
    {
      "cell_type": "code",
      "metadata": {},
      "source": [
        "#| label: My First Figure\n",
        "#| fig-cap: This is the caption for my first figure.\n",
        "import numpy as np\n",
        "import matplotlib.pyplot as plt\n",
        "\n",
        "fig = plt.figure()\n",
        "x = np.arange(10)\n",
        "y = 2.5 * np.sin(x / 20 * np.pi)\n",
        "yerr = np.linspace(0.05, 0.2, 10)\n",
        "\n",
        "plt.errorbar(x, y + 3, yerr=yerr, label='both limits (default)')\n",
        "plt.errorbar(x, y + 2, yerr=yerr, uplims=True, label='uplims=True')\n",
        "plt.errorbar(x, y + 1, yerr=yerr, uplims=True, lolims=True,\n",
        "             label='uplims=True, lolims=True')\n",
        "\n",
        "upperlimits = [True, False] * 5\n",
        "lowerlimits = [False, True] * 5\n",
        "plt.errorbar(x, y, yerr=yerr, uplims=upperlimits, lolims=lowerlimits,\n",
        "             label='subsets of uplims and lolims')\n",
        "\n",
        "plt.legend(loc='lower right')\n",
        "plt.show(fig)"
      ],
      "id": "My-First-Figure",
      "execution_count": null,
      "outputs": []
    },
    {
      "cell_type": "markdown",
      "metadata": {},
      "source": [
        "\\section{Another Section}\n",
        "\n",
        "Some more text.  Then a plotly plot.\n"
      ],
      "id": "fa27ee05"
    },
    {
      "cell_type": "code",
      "metadata": {},
      "source": [
        "import plotly.express as px\n",
        "import plotly.io as pio\n",
        "gapminder = px.data.gapminder()\n",
        "gapminder2007 = gapminder.query(\"year == 2007\")\n",
        "fig = px.scatter(gapminder2007, \n",
        "                 x=\"gdpPercap\", y=\"lifeExp\", color=\"continent\", \n",
        "                 size=\"pop\", size_max=60,\n",
        "                 hover_name=\"country\")\n",
        "fig.write_image('test_files/figure-pdf/my-second-figure-output-1.pdf')\n",
        "#fig.show()"
      ],
      "id": "0f5a8030",
      "execution_count": null,
      "outputs": []
    },
    {
      "cell_type": "markdown",
      "metadata": {},
      "source": [
        "\\begin{center}\n",
        "\\begin{figure}\n",
        "\\includegraphics{test_files/figure-pdf/my-second-figure-output-1.pdf}\n",
        "\\caption{This is the caption for my second figure.}\n",
        "\\end{figure}\n",
        "\\end{center}\n",
        "\n",
        "Now some math.\n",
        "\n",
        "\n",
        "\\begin{align}\n",
        "f(x) & = 3\\\\ \n",
        "\\Gamma & = \\int_0^2 \\sin(x) \\,\\mathrm{d}x\n",
        "\\end{align}"
      ],
      "id": "1ecd48e8"
    }
  ],
  "metadata": {
    "kernelspec": {
      "name": "python3",
      "language": "python",
      "display_name": "Python 3 (ipykernel)"
    }
  },
  "nbformat": 4,
  "nbformat_minor": 5
}